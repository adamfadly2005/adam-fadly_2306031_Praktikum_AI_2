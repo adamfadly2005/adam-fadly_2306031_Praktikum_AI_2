{
  "nbformat": 4,
  "nbformat_minor": 0,
  "metadata": {
    "colab": {
      "provenance": [],
      "authorship_tag": "ABX9TyPOstX6oas9nPK9kDXhST1E",
      "include_colab_link": true
    },
    "kernelspec": {
      "name": "python3",
      "display_name": "Python 3"
    },
    "language_info": {
      "name": "python"
    }
  },
  "cells": [
    {
      "cell_type": "markdown",
      "metadata": {
        "id": "view-in-github",
        "colab_type": "text"
      },
      "source": [
        "<a href=\"https://colab.research.google.com/github/adamfadly2005/adam-fadly_2306031_Praktikum_AI_2/blob/main/praktikum_AI_Search_Algorithm/bfs_py.ipynb\" target=\"_parent\"><img src=\"https://colab.research.google.com/assets/colab-badge.svg\" alt=\"Open In Colab\"/></a>"
      ]
    },
    {
      "cell_type": "code",
      "execution_count": 1,
      "metadata": {
        "colab": {
          "base_uri": "https://localhost:8080/"
        },
        "id": "1-KXEAX1zWOr",
        "outputId": "c83a3455-9c95-48c7-ca10-249e3f44e178"
      },
      "outputs": [
        {
          "output_type": "stream",
          "name": "stdout",
          "text": [
            "Following is Breadth First Travesal: \n",
            "0 1 2 3 "
          ]
        }
      ],
      "source": [
        "import collections\n",
        "\n",
        "def bfs(graph, root):\n",
        "\n",
        "  visited, queue = set(), collections.deque([root])\n",
        "  visited.add(root)\n",
        "\n",
        "  while queue:\n",
        "\n",
        "    vertex = queue.popleft()\n",
        "    print(str(vertex) + \" \", end=\"\")\n",
        "\n",
        "    for neighbour in graph[vertex]:\n",
        "      if neighbour not in visited:\n",
        "        visited.add(neighbour)\n",
        "        queue.append(neighbour)\n",
        "\n",
        "if __name__ == '__main__':\n",
        "    graph = {0: [1, 2], 1: [2], 2: [3], 3: [1, 2]}\n",
        "    print(\"Following is Breadth First Travesal: \")\n",
        "    bfs(graph, 0)\n"
      ]
    }
  ]
}